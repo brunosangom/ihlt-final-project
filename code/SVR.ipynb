{
 "cells": [
  {
   "cell_type": "code",
   "execution_count": 2,
   "metadata": {},
   "outputs": [],
   "source": [
    "import pandas as pd\n",
    "from sklearn.model_selection import GridSearchCV, KFold\n",
    "from sklearn.preprocessing import StandardScaler\n",
    "from sklearn.svm import SVR\n",
    "from scipy.stats import pearsonr\n",
    "\n",
    "# Define parameter grid\n",
    "param_grid = {\n",
    "    'C': [1, 10],\n",
    "    'kernel': ['rbf', 'linear']\n",
    "}\n",
    "\n",
    "# Custom scoring function for Pearson correlation\n",
    "def pearson_scorer(estimator, X, y):\n",
    "    y_pred = estimator.predict(X)\n",
    "    return pearsonr(y, y_pred)[0]\n",
    "\n",
    "def evaluate_model(X_train, y_train, X_test, y_test):\n",
    "    # Create GridSearchCV\n",
    "    grid_search = GridSearchCV(\n",
    "        SVR(), \n",
    "        param_grid, \n",
    "        cv=KFold(n_splits=5, shuffle=True, random_state=42),\n",
    "        scoring=pearson_scorer,\n",
    "        n_jobs=4  # Use all available cores\n",
    "    )\n",
    "\n",
    "    # Standardize the data\n",
    "    scaler = StandardScaler()\n",
    "    X_scaled = scaler.fit_transform(X_train)\n",
    "    X_test_scaled = scaler.transform(X_test)\n",
    "\n",
    "    # Fit the grid search\n",
    "    grid_search.fit(X_scaled, y_train)\n",
    "\n",
    "    # Best model\n",
    "    best_svr = grid_search.best_estimator_\n",
    "\n",
    "    # Predict on test set\n",
    "    y_test_pred = best_svr.predict(X_test_scaled)\n",
    "\n",
    "    # Calculate Pearson correlation\n",
    "    test_corr, _ = pearsonr(y_test, y_test_pred)\n",
    "\n",
    "    print(\"Best Parameters:\", grid_search.best_params_)\n",
    "\n",
    "    print(f'Best Pearson Correlation on Validation Set: {grid_search.best_score_}')\n",
    "    print(f'Pearson Correlation on Testing Set: {test_corr}')"
   ]
  },
  {
   "cell_type": "code",
   "execution_count": 3,
   "metadata": {},
   "outputs": [],
   "source": [
    "# Load Lexical Features\n",
    "train_df_lexical = pd.read_csv('Features/train/lexicalFeatures_train.csv')\n",
    "test_df_lexical = pd.read_csv('Features/test/lexicalFeatures_test.csv')\n",
    "\n",
    "# Prepare the features and target\n",
    "X_train_lexical = train_df_lexical.drop(columns=['gs']).values\n",
    "y_train = train_df_lexical['gs'].values\n",
    "\n",
    "X_test_lexical = test_df_lexical.drop(columns=['gs']).values\n",
    "y_test = test_df_lexical['gs'].values"
   ]
  },
  {
   "cell_type": "code",
   "execution_count": 36,
   "metadata": {},
   "outputs": [
    {
     "name": "stdout",
     "output_type": "stream",
     "text": [
      "Best Parameters: {'C': 1, 'kernel': 'rbf'}\n",
      "Best Pearson Correlation on Validation Set: 0.8144895687913902\n",
      "Pearson Correlation on Testing Set: 0.6811583469128282\n"
     ]
    }
   ],
   "source": [
    "evaluate_model(X_train_lexical, y_train, X_test_lexical, y_test)"
   ]
  },
  {
   "cell_type": "code",
   "execution_count": null,
   "metadata": {},
   "outputs": [],
   "source": [
    "# Load Syntactic Features\n",
    "train_df_syntactic = pd.read_csv('Features/train/syntacticFeatures_train.csv')\n",
    "test_df_syntactic = pd.read_csv('Features/test/syntacticFeatures_test.csv')\n",
    "\n",
    "X_train_syntactic = train_df_syntactic.drop(columns=['gs']).values\n",
    "X_test_syntactic = test_df_syntactic.drop(columns=['gs']).values"
   ]
  },
  {
   "cell_type": "code",
   "execution_count": null,
   "metadata": {},
   "outputs": [],
   "source": [
    "evaluate_model(X_train_syntactic, y_train, X_test_syntactic, y_test)"
   ]
  },
  {
   "cell_type": "code",
   "execution_count": 5,
   "metadata": {},
   "outputs": [],
   "source": [
    "# Load String Features\n",
    "train_df_strings = pd.read_csv('Features/train/stringFeatures_train.csv')\n",
    "test_df_strings = pd.read_csv('Features/test/stringFeatures_test.csv')\n",
    "\n",
    "X_train_strings = train_df_strings.drop(columns=['gs']).values\n",
    "X_test_strings = test_df_strings.drop(columns=['gs']).values"
   ]
  },
  {
   "cell_type": "code",
   "execution_count": 37,
   "metadata": {},
   "outputs": [
    {
     "name": "stdout",
     "output_type": "stream",
     "text": [
      "Best Parameters: {'C': 1, 'kernel': 'rbf'}\n",
      "Best Pearson Correlation on Validation Set: 0.8003102544300591\n",
      "Pearson Correlation on Testing Set: 0.6760961338294003\n"
     ]
    }
   ],
   "source": [
    "evaluate_model(X_train_strings, y_train, X_test_strings, y_test)"
   ]
  },
  {
   "cell_type": "code",
   "execution_count": 7,
   "metadata": {},
   "outputs": [],
   "source": [
    "# Join all features\n",
    "# train_df_unrestricted = pd.concat([train_df_lexical, train_df_syntactic, train_df_strings], axis=1)\n",
    "# test_df_unrestricted = pd.concat([test_df_lexical, test_df_syntactic, test_df_strings], axis=1)\n",
    "train_df_unrestricted = pd.concat([train_df_lexical, train_df_strings], axis=1)\n",
    "test_df_unrestricted = pd.concat([test_df_lexical, test_df_strings], axis=1)\n",
    "\n",
    "X_train_unrestricted = train_df_unrestricted.drop(columns=['gs']).values\n",
    "X_test_unrestricted = test_df_unrestricted.drop(columns=['gs']).values"
   ]
  },
  {
   "cell_type": "code",
   "execution_count": 23,
   "metadata": {},
   "outputs": [
    {
     "name": "stdout",
     "output_type": "stream",
     "text": [
      "Best Parameters: {'C': 1, 'kernel': 'rbf'}\n",
      "Best Pearson Correlation on Validation Set: 0.839411848070973\n",
      "Pearson Correlation on Testing Set: 0.7190683003814442\n"
     ]
    }
   ],
   "source": [
    "evaluate_model(X_train_unrestricted, y_train, X_test_unrestricted, y_test)"
   ]
  },
  {
   "cell_type": "code",
   "execution_count": 32,
   "metadata": {},
   "outputs": [],
   "source": [
    "# Feature Selection\n",
    "\n",
    "# Calculate correlations of all training features with the Gold Standard\n",
    "correlations = {}\n",
    "for column in train_df_unrestricted.columns:\n",
    "    if column == 'gs':\n",
    "        continue\n",
    "    corr, _ = pearsonr(train_df_unrestricted[column], train_df_lexical['gs'])\n",
    "    correlations[column] = corr\n",
    "\n",
    "min_correlations = [0.3, 0.4, 0.5]"
   ]
  },
  {
   "cell_type": "code",
   "execution_count": 35,
   "metadata": {},
   "outputs": [
    {
     "name": "stdout",
     "output_type": "stream",
     "text": [
      "Evaluating model with 42 features (corr > 0.3)\n",
      "Best Parameters: {'C': 1, 'kernel': 'rbf'}\n",
      "Best Pearson Correlation on Validation Set: 0.8451851693817535\n",
      "Pearson Correlation on Testing Set: 0.735804080800094\n",
      "\n",
      "Evaluating model with 36 features (corr > 0.4)\n",
      "Best Parameters: {'C': 1, 'kernel': 'rbf'}\n",
      "Best Pearson Correlation on Validation Set: 0.8431752611461757\n",
      "Pearson Correlation on Testing Set: 0.7402074709511671\n",
      "\n",
      "Evaluating model with 27 features (corr > 0.5)\n",
      "Best Parameters: {'C': 1, 'kernel': 'rbf'}\n",
      "Best Pearson Correlation on Validation Set: 0.8351593738807448\n",
      "Pearson Correlation on Testing Set: 0.7345223266279477\n",
      "\n"
     ]
    }
   ],
   "source": [
    "for min_correlation in min_correlations:\n",
    "    selected_features = [k for k, v in correlations.items() if v > min_correlation]\n",
    "\n",
    "    reduced_train_df = train_df_unrestricted[selected_features]\n",
    "    reduced_test_df = test_df_unrestricted[selected_features]\n",
    "\n",
    "    X_train_reduced = reduced_train_df.values\n",
    "    X_test_reduced = reduced_test_df.values\n",
    "\n",
    "    print(f'Evaluating model with {len(selected_features)} features (corr > {min_correlation})')\n",
    "    evaluate_model(X_train_reduced, y_train, X_test_reduced, y_test)\n",
    "    print()"
   ]
  },
  {
   "cell_type": "code",
   "execution_count": null,
   "metadata": {},
   "outputs": [],
   "source": []
  }
 ],
 "metadata": {
  "kernelspec": {
   "display_name": "base",
   "language": "python",
   "name": "python3"
  },
  "language_info": {
   "codemirror_mode": {
    "name": "ipython",
    "version": 3
   },
   "file_extension": ".py",
   "mimetype": "text/x-python",
   "name": "python",
   "nbconvert_exporter": "python",
   "pygments_lexer": "ipython3",
   "version": "3.12.7"
  }
 },
 "nbformat": 4,
 "nbformat_minor": 2
}
