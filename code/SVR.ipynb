{
 "cells": [
  {
   "cell_type": "code",
   "execution_count": 1,
   "metadata": {},
   "outputs": [
    {
     "name": "stdout",
     "output_type": "stream",
     "text": [
      "Best Pearson Correlation on Validation Set: 0.8144895687913903\n",
      "Pearson Correlation on Testing Set: 0.6811583469128275\n",
      "Best Model Parameters: {'C': 1.0, 'cache_size': 200, 'coef0': 0.0, 'degree': 3, 'epsilon': 0.1, 'gamma': 'scale', 'kernel': 'rbf', 'max_iter': -1, 'shrinking': True, 'tol': 0.001, 'verbose': False}\n"
     ]
    }
   ],
   "source": [
    "import numpy as np\n",
    "import pandas as pd\n",
    "from sklearn.model_selection import KFold, cross_val_score\n",
    "from sklearn.preprocessing import StandardScaler\n",
    "from sklearn.svm import SVR\n",
    "from scipy.stats import pearsonr\n",
    "\n",
    "# Load the data\n",
    "df = pd.read_csv('Features/train/lexicalFeatures_train.csv')\n",
    "test_df = pd.read_csv('Features/test/lexicalFeatures_test.csv')\n",
    "\n",
    "# Prepare the features and target\n",
    "X = df.drop(columns=['gs']).values\n",
    "y = df['gs'].values\n",
    "\n",
    "X_test = test_df.drop(columns=['gs']).values\n",
    "y_test = test_df['gs'].values\n",
    "\n",
    "# Standardize the data\n",
    "scaler = StandardScaler()\n",
    "X_scaled = scaler.fit_transform(X)\n",
    "X_test_scaled = scaler.transform(X_test)\n",
    "\n",
    "# Define cross-validation strategy\n",
    "n_folds = 5\n",
    "kf = KFold(n_splits=n_folds, shuffle=True, random_state=42)\n",
    "\n",
    "# Initialize the best model and performance trackers\n",
    "best_model = None\n",
    "best_pearson = -np.inf\n",
    "\n",
    "# Perform cross-validation with different SVR parameters\n",
    "params = [\n",
    "    {'kernel': 'rbf', 'C': 1.0, 'epsilon': 0.1},\n",
    "    {'kernel': 'rbf', 'C': 10.0, 'epsilon': 0.01},\n",
    "    {'kernel': 'linear', 'C': 1.0, 'epsilon': 0.1}\n",
    "]\n",
    "\n",
    "for param in params:\n",
    "    # Create SVR model with current parameters\n",
    "    svr = SVR(**param)\n",
    "    \n",
    "    # Perform cross-validation\n",
    "    cv_scores = []\n",
    "    for train_idx, val_idx in kf.split(X_scaled):\n",
    "        X_train, X_val = X_scaled[train_idx], X_scaled[val_idx]\n",
    "        y_train, y_val = y[train_idx], y[val_idx]\n",
    "        \n",
    "        # Fit the model\n",
    "        svr.fit(X_train, y_train)\n",
    "        \n",
    "        # Predict and calculate Pearson correlation\n",
    "        y_pred = svr.predict(X_val)\n",
    "        corr, _ = pearsonr(y_val, y_pred)\n",
    "        cv_scores.append(corr)\n",
    "    \n",
    "    # Calculate mean Pearson correlation\n",
    "    mean_corr = np.mean(cv_scores)\n",
    "    \n",
    "    # Update best model if current model performs better\n",
    "    if mean_corr > best_pearson:\n",
    "        best_pearson = mean_corr\n",
    "        best_model = SVR(**param)\n",
    "\n",
    "# Fit the best model on entire training data\n",
    "best_model.fit(X_scaled, y)\n",
    "\n",
    "# Predict on test data\n",
    "y_test_pred = best_model.predict(X_test_scaled)\n",
    "\n",
    "# Calculate final Pearson correlation\n",
    "test_corr, _ = pearsonr(y_test, y_test_pred)\n",
    "\n",
    "print(f'Best Pearson Correlation on Validation Set: {best_pearson}')\n",
    "print(f'Pearson Correlation on Testing Set: {test_corr}')\n",
    "print(f'Best Model Parameters: {best_model.get_params()}')"
   ]
  },
  {
   "cell_type": "code",
   "execution_count": null,
   "metadata": {},
   "outputs": [],
   "source": []
  }
 ],
 "metadata": {
  "kernelspec": {
   "display_name": "base",
   "language": "python",
   "name": "python3"
  },
  "language_info": {
   "codemirror_mode": {
    "name": "ipython",
    "version": 3
   },
   "file_extension": ".py",
   "mimetype": "text/x-python",
   "name": "python",
   "nbconvert_exporter": "python",
   "pygments_lexer": "ipython3",
   "version": "3.12.4"
  }
 },
 "nbformat": 4,
 "nbformat_minor": 2
}
