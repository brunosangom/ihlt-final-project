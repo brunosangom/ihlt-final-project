{
 "cells": [
  {
   "cell_type": "code",
   "execution_count": null,
   "metadata": {},
   "outputs": [
    {
     "name": "stdout",
     "output_type": "stream",
     "text": [
      "Best Parameters: {'C': 1, 'epsilon': 0.1, 'kernel': 'rbf'}\n",
      "Best Pearson Correlation on Validation Set: 0.8144895687913903\n",
      "Pearson Correlation on Testing Set: 0.6811583469128275\n"
     ]
    }
   ],
   "source": [
    "import pandas as pd\n",
    "from sklearn.model_selection import GridSearchCV, KFold\n",
    "from sklearn.preprocessing import StandardScaler\n",
    "from sklearn.svm import SVR\n",
    "from scipy.stats import pearsonr\n",
    "\n",
    "# Load the data\n",
    "df = pd.read_csv('Features/train/lexicalFeatures_train.csv')\n",
    "test_df = pd.read_csv('Features/test/lexicalFeatures_test.csv')\n",
    "\n",
    "# Prepare the features and target\n",
    "X = df.drop(columns=['gs']).values\n",
    "y = df['gs'].values\n",
    "\n",
    "X_test = test_df.drop(columns=['gs']).values\n",
    "y_test = test_df['gs'].values\n",
    "\n",
    "# Standardize the data\n",
    "scaler = StandardScaler()\n",
    "X_scaled = scaler.fit_transform(X)\n",
    "X_test_scaled = scaler.transform(X_test)\n",
    "\n",
    "# Define parameter grid\n",
    "param_grid = {\n",
    "    'C': [1, 10],\n",
    "    'kernel': ['rbf', 'linear']\n",
    "}\n",
    "\n",
    "# Custom scoring function for Pearson correlation\n",
    "def pearson_scorer(estimator, X, y):\n",
    "    y_pred = estimator.predict(X)\n",
    "    return pearsonr(y, y_pred)[0]\n",
    "\n",
    "# Create GridSearchCV\n",
    "grid_search = GridSearchCV(\n",
    "    SVR(), \n",
    "    param_grid, \n",
    "    cv=KFold(n_splits=5, shuffle=True, random_state=42),\n",
    "    scoring=pearson_scorer,\n",
    "    n_jobs=4  # Use all available cores\n",
    ")\n",
    "\n",
    "# Fit the grid search\n",
    "grid_search.fit(X_scaled, y)\n",
    "\n",
    "# Best model\n",
    "best_svr = grid_search.best_estimator_\n",
    "\n",
    "# Predict on test set\n",
    "y_test_pred = best_svr.predict(X_test_scaled)\n",
    "\n",
    "# Calculate Pearson correlation\n",
    "test_corr, _ = pearsonr(y_test, y_test_pred)\n",
    "\n",
    "print(\"Best Parameters:\", grid_search.best_params_)\n",
    "print(f'Best Pearson Correlation on Validation Set: {grid_search.best_score_}')\n",
    "print(f'Pearson Correlation on Testing Set: {test_corr}')"
   ]
  },
  {
   "cell_type": "code",
   "execution_count": null,
   "metadata": {},
   "outputs": [],
   "source": []
  }
 ],
 "metadata": {
  "kernelspec": {
   "display_name": "base",
   "language": "python",
   "name": "python3"
  },
  "language_info": {
   "codemirror_mode": {
    "name": "ipython",
    "version": 3
   },
   "file_extension": ".py",
   "mimetype": "text/x-python",
   "name": "python",
   "nbconvert_exporter": "python",
   "pygments_lexer": "ipython3",
   "version": "3.12.4"
  }
 },
 "nbformat": 4,
 "nbformat_minor": 2
}
