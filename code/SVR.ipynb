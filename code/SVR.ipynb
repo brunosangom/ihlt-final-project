{
 "cells": [
  {
   "cell_type": "code",
   "execution_count": 18,
   "metadata": {},
   "outputs": [],
   "source": [
    "import pandas as pd\n",
    "from sklearn.model_selection import GridSearchCV, KFold\n",
    "from sklearn.preprocessing import StandardScaler\n",
    "from sklearn.svm import SVR\n",
    "from scipy.stats import pearsonr\n",
    "\n",
    "# Define parameter grid\n",
    "param_grid = {\n",
    "    'C': [1, 10],\n",
    "    'kernel': ['rbf', 'linear']\n",
    "}\n",
    "\n",
    "# Custom scoring function for Pearson correlation\n",
    "def pearson_scorer(estimator, X, y):\n",
    "    y_pred = estimator.predict(X)\n",
    "    return pearsonr(y, y_pred)[0]\n",
    "\n",
    "best_correlations = {}\n",
    "\n",
    "def evaluate_model(X_train, y_train, X_test, y_test):\n",
    "    # Create GridSearchCV\n",
    "    grid_search = GridSearchCV(\n",
    "        SVR(), \n",
    "        param_grid, \n",
    "        cv=KFold(n_splits=5, shuffle=True, random_state=1),\n",
    "        scoring=pearson_scorer,\n",
    "        n_jobs=4  # Use all available cores\n",
    "    )\n",
    "\n",
    "    # Standardize the data\n",
    "    scaler = StandardScaler()\n",
    "    X_scaled = scaler.fit_transform(X_train)\n",
    "    X_test_scaled = scaler.transform(X_test)\n",
    "\n",
    "    # Fit the grid search\n",
    "    grid_search.fit(X_scaled, y_train)\n",
    "\n",
    "    # Best model\n",
    "    best_svr = grid_search.best_estimator_\n",
    "\n",
    "    # Predict on test set\n",
    "    y_test_pred = best_svr.predict(X_test_scaled)\n",
    "\n",
    "    # Calculate Pearson correlation\n",
    "    test_corr, _ = pearsonr(y_test, y_test_pred)\n",
    "\n",
    "    print(\"Best Parameters:\", grid_search.best_params_)\n",
    "\n",
    "    print(f'Best Pearson Correlation on Validation Set: {grid_search.best_score_}')\n",
    "    print(f'Pearson Correlation on Testing Set: {test_corr}')\n",
    "\n",
    "    return test_corr"
   ]
  },
  {
   "cell_type": "code",
   "execution_count": 19,
   "metadata": {},
   "outputs": [],
   "source": [
    "# Load Lexical Features\n",
    "train_df_lexical = pd.read_csv('Features/train/lexicalFeatures_train.csv')\n",
    "test_df_lexical = pd.read_csv('Features/test/lexicalFeatures_test.csv')\n",
    "\n",
    "# Prepare the features and target\n",
    "X_train_lexical = train_df_lexical.drop(columns=['gs']).values\n",
    "y_train = train_df_lexical['gs'].values\n",
    "\n",
    "X_test_lexical = test_df_lexical.drop(columns=['gs']).values\n",
    "y_test = test_df_lexical['gs'].values"
   ]
  },
  {
   "cell_type": "code",
   "execution_count": 20,
   "metadata": {},
   "outputs": [
    {
     "name": "stdout",
     "output_type": "stream",
     "text": [
      "Best Parameters: {'C': 1, 'kernel': 'rbf'}\n",
      "Best Pearson Correlation on Validation Set: 0.8148733748308142\n",
      "Pearson Correlation on Testing Set: 0.6811583469128282\n"
     ]
    }
   ],
   "source": [
    "best_correlations['Lexical'] = evaluate_model(X_train_lexical, y_train, X_test_lexical, y_test)"
   ]
  },
  {
   "cell_type": "code",
   "execution_count": 21,
   "metadata": {},
   "outputs": [],
   "source": [
    "# Load Syntactic Features\n",
    "train_df_syntactic = pd.read_csv('Features/train/syntacticFeatures_train.csv')\n",
    "test_df_syntactic = pd.read_csv('Features/test/syntacticFeatures_test.csv')\n",
    "\n",
    "X_train_syntactic = train_df_syntactic.drop(columns=['gs']).values\n",
    "X_test_syntactic = test_df_syntactic.drop(columns=['gs']).values"
   ]
  },
  {
   "cell_type": "code",
   "execution_count": 22,
   "metadata": {},
   "outputs": [
    {
     "name": "stdout",
     "output_type": "stream",
     "text": [
      "Best Parameters: {'C': 10, 'kernel': 'rbf'}\n",
      "Best Pearson Correlation on Validation Set: 0.7685498799667123\n",
      "Pearson Correlation on Testing Set: 0.6378577291995338\n"
     ]
    }
   ],
   "source": [
    "best_correlations['Syntactic'] = evaluate_model(X_train_syntactic, y_train, X_test_syntactic, y_test)"
   ]
  },
  {
   "cell_type": "code",
   "execution_count": 23,
   "metadata": {},
   "outputs": [],
   "source": [
    "# Load String Features\n",
    "train_df_strings = pd.read_csv('Features/train/stringFeatures_train.csv')\n",
    "test_df_strings = pd.read_csv('Features/test/stringFeatures_test.csv')\n",
    "\n",
    "X_train_strings = train_df_strings.drop(columns=['gs']).values\n",
    "X_test_strings = test_df_strings.drop(columns=['gs']).values"
   ]
  },
  {
   "cell_type": "code",
   "execution_count": 24,
   "metadata": {},
   "outputs": [
    {
     "name": "stdout",
     "output_type": "stream",
     "text": [
      "Best Parameters: {'C': 1, 'kernel': 'rbf'}\n",
      "Best Pearson Correlation on Validation Set: 0.8022661745972973\n",
      "Pearson Correlation on Testing Set: 0.6760961338294003\n"
     ]
    }
   ],
   "source": [
    "best_correlations['Strings'] = evaluate_model(X_train_strings, y_train, X_test_strings, y_test)"
   ]
  },
  {
   "cell_type": "code",
   "execution_count": 25,
   "metadata": {},
   "outputs": [],
   "source": [
    "# Join all features\n",
    "train_df_unrestricted = pd.concat([train_df_lexical, train_df_syntactic, train_df_strings], axis=1)\n",
    "test_df_unrestricted = pd.concat([test_df_lexical, test_df_syntactic, test_df_strings], axis=1)\n",
    "\n",
    "X_train_unrestricted = train_df_unrestricted.drop(columns=['gs']).values\n",
    "X_test_unrestricted = test_df_unrestricted.drop(columns=['gs']).values"
   ]
  },
  {
   "cell_type": "code",
   "execution_count": 26,
   "metadata": {},
   "outputs": [
    {
     "name": "stdout",
     "output_type": "stream",
     "text": [
      "Best Parameters: {'C': 1, 'kernel': 'rbf'}\n",
      "Best Pearson Correlation on Validation Set: 0.8480726539849996\n",
      "Pearson Correlation on Testing Set: 0.7489987140897867\n"
     ]
    }
   ],
   "source": [
    "best_correlations['Unrestricted'] = evaluate_model(X_train_unrestricted, y_train, X_test_unrestricted, y_test)"
   ]
  },
  {
   "cell_type": "code",
   "execution_count": 27,
   "metadata": {},
   "outputs": [],
   "source": [
    "# Feature Selection\n",
    "\n",
    "# Calculate correlations of all training features with the Gold Standard\n",
    "feature_correlations = {}\n",
    "for column in train_df_unrestricted.columns:\n",
    "    if column == 'gs':\n",
    "        continue\n",
    "    corr, _ = pearsonr(train_df_unrestricted[column], train_df_lexical['gs'])\n",
    "    feature_correlations[column] = corr\n",
    "\n",
    "min_correlations = [0.3, 0.4, 0.5]"
   ]
  },
  {
   "cell_type": "code",
   "execution_count": 28,
   "metadata": {},
   "outputs": [
    {
     "name": "stdout",
     "output_type": "stream",
     "text": [
      "Evaluating model with 46 features (corr > 0.3)\n",
      "Best Parameters: {'C': 1, 'kernel': 'rbf'}\n",
      "Best Pearson Correlation on Validation Set: 0.8476897479101991\n",
      "Pearson Correlation on Testing Set: 0.7395700461339365\n",
      "\n",
      "Evaluating model with 38 features (corr > 0.4)\n",
      "Best Parameters: {'C': 1, 'kernel': 'rbf'}\n",
      "Best Pearson Correlation on Validation Set: 0.8457348717800205\n",
      "Pearson Correlation on Testing Set: 0.7428518518025874\n",
      "\n",
      "Evaluating model with 28 features (corr > 0.5)\n",
      "Best Parameters: {'C': 1, 'kernel': 'rbf'}\n",
      "Best Pearson Correlation on Validation Set: 0.8383692280528361\n",
      "Pearson Correlation on Testing Set: 0.7364306075079398\n",
      "\n"
     ]
    }
   ],
   "source": [
    "best_correlation = 0.0\n",
    "\n",
    "for min_correlation in min_correlations:\n",
    "    selected_features = [k for k, v in feature_correlations.items() if v > min_correlation]\n",
    "\n",
    "    reduced_train_df = train_df_unrestricted[selected_features]\n",
    "    reduced_test_df = test_df_unrestricted[selected_features]\n",
    "\n",
    "    X_train_reduced = reduced_train_df.values\n",
    "    X_test_reduced = reduced_test_df.values\n",
    "\n",
    "    print(f'Evaluating model with {len(selected_features)} features (corr > {min_correlation})')\n",
    "    correlation = evaluate_model(X_train_reduced, y_train, X_test_reduced, y_test)\n",
    "    print()\n",
    "\n",
    "    if correlation > best_correlation:\n",
    "        best_correlation = correlation\n",
    "\n",
    "best_correlations['FeatureSelection'] = best_correlation"
   ]
  },
  {
   "cell_type": "code",
   "execution_count": null,
   "metadata": {},
   "outputs": [
    {
     "data": {
      "text/html": [
       "<div>\n",
       "<style scoped>\n",
       "    .dataframe tbody tr th:only-of-type {\n",
       "        vertical-align: middle;\n",
       "    }\n",
       "\n",
       "    .dataframe tbody tr th {\n",
       "        vertical-align: top;\n",
       "    }\n",
       "\n",
       "    .dataframe thead th {\n",
       "        text-align: right;\n",
       "    }\n",
       "</style>\n",
       "<table border=\"1\" class=\"dataframe\">\n",
       "  <thead>\n",
       "    <tr style=\"text-align: right;\">\n",
       "      <th></th>\n",
       "      <th>Features</th>\n",
       "      <th>Correlation</th>\n",
       "    </tr>\n",
       "  </thead>\n",
       "  <tbody>\n",
       "    <tr>\n",
       "      <th>0</th>\n",
       "      <td>Lexical</td>\n",
       "      <td>0.681158</td>\n",
       "    </tr>\n",
       "    <tr>\n",
       "      <th>1</th>\n",
       "      <td>Syntactic</td>\n",
       "      <td>0.637858</td>\n",
       "    </tr>\n",
       "    <tr>\n",
       "      <th>2</th>\n",
       "      <td>Strings</td>\n",
       "      <td>0.676096</td>\n",
       "    </tr>\n",
       "    <tr>\n",
       "      <th>3</th>\n",
       "      <td>Unrestricted</td>\n",
       "      <td>0.748999</td>\n",
       "    </tr>\n",
       "    <tr>\n",
       "      <th>4</th>\n",
       "      <td>FeatureSelection</td>\n",
       "      <td>0.742852</td>\n",
       "    </tr>\n",
       "  </tbody>\n",
       "</table>\n",
       "</div>"
      ],
      "text/plain": [
       "           Features  Correlation\n",
       "0           Lexical     0.681158\n",
       "1         Syntactic     0.637858\n",
       "2           Strings     0.676096\n",
       "3      Unrestricted     0.748999\n",
       "4  FeatureSelection     0.742852"
      ]
     },
     "execution_count": 29,
     "metadata": {},
     "output_type": "execute_result"
    }
   ],
   "source": [
    "# Transform dictionary into a DataFrame to display results\n",
    "best_correlations_df = pd.DataFrame(list(best_correlations.items()), columns=[\"Features\", \"Correlation\"])\n",
    "\n",
    "best_correlations_df"
   ]
  },
  {
   "cell_type": "code",
   "execution_count": null,
   "metadata": {},
   "outputs": [],
   "source": []
  }
 ],
 "metadata": {
  "kernelspec": {
   "display_name": "base",
   "language": "python",
   "name": "python3"
  },
  "language_info": {
   "codemirror_mode": {
    "name": "ipython",
    "version": 3
   },
   "file_extension": ".py",
   "mimetype": "text/x-python",
   "name": "python",
   "nbconvert_exporter": "python",
   "pygments_lexer": "ipython3",
   "version": "3.12.7"
  }
 },
 "nbformat": 4,
 "nbformat_minor": 2
}
