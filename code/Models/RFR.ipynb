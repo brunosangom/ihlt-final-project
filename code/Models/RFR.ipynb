{
 "cells": [
  {
   "cell_type": "markdown",
   "metadata": {},
   "source": [
    "# Random Forest Regressor (RFR)"
   ]
  },
  {
   "cell_type": "code",
   "execution_count": 2,
   "metadata": {},
   "outputs": [],
   "source": [
    "import pandas as pd\n",
    "import numpy as np\n",
    "from sklearn.model_selection import KFold\n",
    "from sklearn.preprocessing import StandardScaler\n",
    "from sklearn.ensemble import RandomForestRegressor\n",
    "from scipy.stats import pearsonr\n",
    "\n",
    "best_correlations = {}\n",
    "feature_importances = {}\n",
    "\n",
    "def evaluate_model(X_train, y_train, X_test, y_test):\n",
    "    # Initialize Random Forest Regressor\n",
    "    rf = RandomForestRegressor(random_state=1)\n",
    "\n",
    "    # Standardize the data\n",
    "    scaler = StandardScaler()\n",
    "    X_train_scaled = scaler.fit_transform(X_train)\n",
    "    X_test_scaled = scaler.transform(X_test)\n",
    "\n",
    "    # Fit the model on the training set\n",
    "    rf.fit(X_train_scaled, y_train)\n",
    "\n",
    "    # Predict on test set\n",
    "    y_test_pred = rf.predict(X_test_scaled)\n",
    "\n",
    "    # Calculate Pearson correlation\n",
    "    test_corr, _ = pearsonr(y_test, y_test_pred)\n",
    "\n",
    "    # Feature importance\n",
    "    feature_importance = rf.feature_importances_\n",
    "\n",
    "    print(f'Pearson Correlation on Testing Set: {test_corr}')\n",
    "\n",
    "    return test_corr, feature_importance\n"
   ]
  },
  {
   "cell_type": "code",
   "execution_count": 3,
   "metadata": {},
   "outputs": [],
   "source": [
    "# Load Lexical Features\n",
    "train_df_lexical = pd.read_csv('../Features/train/lexicalFeatures_train.csv')\n",
    "test_df_lexical = pd.read_csv('../Features/test/lexicalFeatures_test.csv')\n",
    "\n",
    "# Prepare the features and target\n",
    "X_train_lexical = train_df_lexical.drop(columns=['gs']).values\n",
    "y_train = train_df_lexical['gs'].values\n",
    "\n",
    "X_test_lexical = test_df_lexical.drop(columns=['gs']).values\n",
    "y_test = test_df_lexical['gs'].values"
   ]
  },
  {
   "cell_type": "code",
   "execution_count": 4,
   "metadata": {},
   "outputs": [
    {
     "name": "stdout",
     "output_type": "stream",
     "text": [
      "Pearson Correlation on Testing Set: 0.7284623458322289\n"
     ]
    }
   ],
   "source": [
    "lexical_results = evaluate_model(X_train_lexical, y_train, X_test_lexical, y_test)\n",
    "best_correlations['Lexical'] = lexical_results[0]\n",
    "feature_importances['Lexical'] = lexical_results[1]"
   ]
  },
  {
   "cell_type": "code",
   "execution_count": 4,
   "metadata": {},
   "outputs": [],
   "source": [
    "# Load Syntactic Features\n",
    "train_df_syntactic = pd.read_csv('../Features/train/syntacticFeatures_train.csv')\n",
    "test_df_syntactic = pd.read_csv('../Features/test/syntacticFeatures_test.csv')\n",
    "\n",
    "X_train_syntactic = train_df_syntactic.drop(columns=['gs']).values\n",
    "X_test_syntactic = test_df_syntactic.drop(columns=['gs']).values"
   ]
  },
  {
   "cell_type": "code",
   "execution_count": 76,
   "metadata": {},
   "outputs": [
    {
     "name": "stdout",
     "output_type": "stream",
     "text": [
      "Pearson Correlation on Testing Set: 0.6607771212389034\n"
     ]
    }
   ],
   "source": [
    "syntactic_results = evaluate_model(X_train_syntactic, y_train, X_test_syntactic, y_test)\n",
    "best_correlations['Syntactic'] = syntactic_results[0]\n",
    "feature_importances['Syntactic'] = syntactic_results[1]"
   ]
  },
  {
   "cell_type": "code",
   "execution_count": 5,
   "metadata": {},
   "outputs": [],
   "source": [
    "# Load String Features\n",
    "train_df_strings = pd.read_csv('../Features/train/stringFeatures_train.csv')\n",
    "test_df_strings = pd.read_csv('../Features/test/stringFeatures_test.csv')\n",
    "\n",
    "X_train_strings = train_df_strings.drop(columns=['gs']).values\n",
    "X_test_strings = test_df_strings.drop(columns=['gs']).values"
   ]
  },
  {
   "cell_type": "code",
   "execution_count": 78,
   "metadata": {},
   "outputs": [
    {
     "name": "stdout",
     "output_type": "stream",
     "text": [
      "Pearson Correlation on Testing Set: 0.6846350383049339\n"
     ]
    }
   ],
   "source": [
    "strings_results = evaluate_model(X_train_strings, y_train, X_test_strings, y_test)\n",
    "best_correlations['Strings'] = strings_results[0]\n",
    "feature_importances['Strings'] = strings_results[1]"
   ]
  },
  {
   "cell_type": "code",
   "execution_count": 6,
   "metadata": {},
   "outputs": [],
   "source": [
    "# Join all features\n",
    "train_df_unrestricted = pd.concat([train_df_lexical, train_df_syntactic, train_df_strings], axis=1)\n",
    "test_df_unrestricted = pd.concat([test_df_lexical, test_df_syntactic, test_df_strings], axis=1)\n",
    "\n",
    "train_df_unrestricted = train_df_unrestricted.drop(columns=['gs'])\n",
    "test_df_unrestricted = test_df_unrestricted.drop(columns=['gs'])\n",
    "\n",
    "X_train_unrestricted = train_df_unrestricted.values\n",
    "X_test_unrestricted = test_df_unrestricted.values"
   ]
  },
  {
   "cell_type": "code",
   "execution_count": 8,
   "metadata": {},
   "outputs": [
    {
     "name": "stdout",
     "output_type": "stream",
     "text": [
      "Pearson Correlation on Testing Set: 0.7570230462350941\n"
     ]
    }
   ],
   "source": [
    "unrestricted_results = evaluate_model(X_train_unrestricted, y_train, X_test_unrestricted, y_test)\n",
    "best_correlations['Unrestricted'] = unrestricted_results[0]\n",
    "feature_importances['Unrestricted'] = unrestricted_results[1]"
   ]
  },
  {
   "cell_type": "code",
   "execution_count": 14,
   "metadata": {},
   "outputs": [
    {
     "name": "stdout",
     "output_type": "stream",
     "text": [
      "There are 10 features with importance > 0.01:\n",
      "Top 10 feature importances:\n",
      "    - lemmas_wn_aug_overlap: 0.4325020377546965\n",
      "    - normal_char_2gram: 0.16297134111640896\n",
      "    - chunk_sim_s: 0.0412800853629427\n",
      "    - lemmas_weighted_overlap: 0.02753037523823193\n",
      "    - normal_char_5gram: 0.01989175950164162\n",
      "    - wsd_wn_aug_overlap: 0.016492690513259033\n",
      "    - wsd_lin_similarity: 0.014270287965658636\n",
      "    - sw_gst_5: 0.014165231257718914\n",
      "    - lemmas_resnik_similarity: 0.010444430980915709\n",
      "    - wsd_resnik_similarity: 0.010332560312099703\n"
     ]
    }
   ],
   "source": [
    "# Feature Importance\n",
    "\n",
    "# Identify important features based on a minimum importance threshold\n",
    "important_features = []\n",
    "min_importance = 0.01\n",
    "\n",
    "for i in range(len(feature_importances['Unrestricted'])):\n",
    "    importance = feature_importances['Unrestricted'][i]\n",
    "    if importance > min_importance:\n",
    "        important_features.append((i, importance))\n",
    "\n",
    "# Sort features by importance in descending order\n",
    "important_features = sorted(important_features, key=lambda x: x[1], reverse=True)\n",
    "\n",
    "# Get column names and corresponding importances for the identified important features\n",
    "important_columns = [train_df_unrestricted.columns[idx] for idx, _ in important_features]\n",
    "\n",
    "# Display the results\n",
    "print(f\"There are {len(important_features)} features with importance > {min_importance}:\")\n",
    "print(\"Top 10 feature importances:\")\n",
    "for (idx, importance), column in zip(important_features, important_columns):\n",
    "    print(f\"    - {column}: {importance}\")\n",
    "\n",
    "# Select the relevant columns\n",
    "importance_train_df = train_df_unrestricted[important_columns]\n",
    "importance_test_df = test_df_unrestricted[important_columns]\n",
    "\n",
    "X_train_importance = importance_train_df.values\n",
    "X_test_importance = importance_test_df.values"
   ]
  },
  {
   "cell_type": "code",
   "execution_count": 13,
   "metadata": {},
   "outputs": [
    {
     "name": "stdout",
     "output_type": "stream",
     "text": [
      "Pearson Correlation on Testing Set: 0.7446161791147365\n"
     ]
    }
   ],
   "source": [
    "importance_results = evaluate_model(X_train_importance, y_train, X_test_importance, y_test)\n",
    "best_correlations['FeatureSelection'] = importance_results[0]\n",
    "feature_importances['FeatureSelection'] = importance_results[1]"
   ]
  },
  {
   "cell_type": "code",
   "execution_count": 83,
   "metadata": {},
   "outputs": [
    {
     "data": {
      "text/html": [
       "<div>\n",
       "<style scoped>\n",
       "    .dataframe tbody tr th:only-of-type {\n",
       "        vertical-align: middle;\n",
       "    }\n",
       "\n",
       "    .dataframe tbody tr th {\n",
       "        vertical-align: top;\n",
       "    }\n",
       "\n",
       "    .dataframe thead th {\n",
       "        text-align: right;\n",
       "    }\n",
       "</style>\n",
       "<table border=\"1\" class=\"dataframe\">\n",
       "  <thead>\n",
       "    <tr style=\"text-align: right;\">\n",
       "      <th></th>\n",
       "      <th>Features</th>\n",
       "      <th>Correlation</th>\n",
       "    </tr>\n",
       "  </thead>\n",
       "  <tbody>\n",
       "    <tr>\n",
       "      <th>0</th>\n",
       "      <td>Lexical</td>\n",
       "      <td>0.728462</td>\n",
       "    </tr>\n",
       "    <tr>\n",
       "      <th>1</th>\n",
       "      <td>Syntactic</td>\n",
       "      <td>0.660777</td>\n",
       "    </tr>\n",
       "    <tr>\n",
       "      <th>2</th>\n",
       "      <td>Strings</td>\n",
       "      <td>0.684635</td>\n",
       "    </tr>\n",
       "    <tr>\n",
       "      <th>3</th>\n",
       "      <td>Unrestricted</td>\n",
       "      <td>0.757023</td>\n",
       "    </tr>\n",
       "    <tr>\n",
       "      <th>4</th>\n",
       "      <td>FeatureSelection</td>\n",
       "      <td>0.744606</td>\n",
       "    </tr>\n",
       "  </tbody>\n",
       "</table>\n",
       "</div>"
      ],
      "text/plain": [
       "           Features  Correlation\n",
       "0           Lexical     0.728462\n",
       "1         Syntactic     0.660777\n",
       "2           Strings     0.684635\n",
       "3      Unrestricted     0.757023\n",
       "4  FeatureSelection     0.744606"
      ]
     },
     "execution_count": 83,
     "metadata": {},
     "output_type": "execute_result"
    }
   ],
   "source": [
    "# Transform dictionary into a DataFrame to display results\n",
    "best_correlations_df = pd.DataFrame(list(best_correlations.items()), columns=[\"Features\", \"Correlation\"])\n",
    "\n",
    "best_correlations_df"
   ]
  },
  {
   "cell_type": "code",
   "execution_count": null,
   "metadata": {},
   "outputs": [],
   "source": []
  }
 ],
 "metadata": {
  "kernelspec": {
   "display_name": "base",
   "language": "python",
   "name": "python3"
  },
  "language_info": {
   "codemirror_mode": {
    "name": "ipython",
    "version": 3
   },
   "file_extension": ".py",
   "mimetype": "text/x-python",
   "name": "python",
   "nbconvert_exporter": "python",
   "pygments_lexer": "ipython3",
   "version": "3.12.7"
  }
 },
 "nbformat": 4,
 "nbformat_minor": 2
}
